{
 "cells": [
  {
   "attachments": {},
   "cell_type": "markdown",
   "metadata": {},
   "source": [
    "### multithreading "
   ]
  },
  {
   "cell_type": "code",
   "execution_count": 7,
   "metadata": {},
   "outputs": [],
   "source": [
    "import threading\n",
    "import pandas as pd\n",
    "import numpy as np\n",
    "# import talib\n",
    "\n",
    "\n",
    "class Strategy:\n",
    "    def __init__(self):\n",
    "        self.fractals = None\n",
    "        self.watching = False\n",
    "        self.ma20 = None\n",
    "        self.ma100 = None\n",
    "        self.counter = 0\n",
    "    def compute_fractals(data):\n",
    "        pass\n",
    "    def update(self, data, timeFrame):\n",
    "        # update the indicators inside the strategy\n",
    "        self.update_indicators(data, timeFrame)\n",
    "\n",
    "        if data.iloc[-1].Close > self.ma20.iloc[-1] and data.iloc[-2].Close < self.ma20.iloc[-2]:\n",
    "            if not self.watching: # only open a thread when there is no thread running\n",
    "                print('Price break the ttf_ma20 from the bottom, start to wait for the next fractal to form...')\n",
    "                self.watching = True\n",
    "                task = threading.Thread(process_new_data, args=(data,))\n",
    "                task.start()\n",
    "        if self.watching:\n",
    "            # count the number of bars since the watch thread is started \n",
    "            self.counter += 1\n",
    "\n",
    "    def process_new_data(data):\n",
    "        pass\n"
   ]
  },
  {
   "attachments": {},
   "cell_type": "markdown",
   "metadata": {},
   "source": [
    "### multiprocessing"
   ]
  },
  {
   "cell_type": "code",
   "execution_count": null,
   "metadata": {},
   "outputs": [],
   "source": [
    "from multiprocessing import Process, Event\n",
    "import time\n",
    "\n",
    "\n",
    "class Strategy:\n",
    "    def __init__(self, symbol, time_frame):\n",
    "        self.symbol = symbol\n",
    "        self.time_frame = time_frame\n",
    "        self.watching = False\n",
    "        self.event = Event()\n",
    "\n",
    "    def update(self, data):\n",
    "        # update the indicators inside the strategy first\n",
    "        self.update_indicators(data)\n",
    "\n",
    "        if not self.watching and self.price_breaks_ma20():\n",
    "            self.watching = True\n",
    "            p = Process(target=self.process_new_data)\n",
    "            p.start()\n",
    "\n",
    "\n",
    "    def wait_for_fractal(self):\n",
    "        if self.watching:\n",
    "            self.event.wait()\n",
    "            self.watching = False\n",
    "  \n",
    "\n",
    "    def process_new_data(self):\n",
    "        # Wait for next fractal to form\n",
    "        time.sleep(60)\n",
    "        self.event.set()\n",
    "\n",
    "    def price_breaks_ma20(self):\n",
    "        # Check if price breaks MA20\n",
    "        return True\n"
   ]
  },
  {
   "cell_type": "code",
   "execution_count": null,
   "metadata": {},
   "outputs": [],
   "source": []
  }
 ],
 "metadata": {
  "kernelspec": {
   "display_name": "base",
   "language": "python",
   "name": "python3"
  },
  "language_info": {
   "codemirror_mode": {
    "name": "ipython",
    "version": 3
   },
   "file_extension": ".py",
   "mimetype": "text/x-python",
   "name": "python",
   "nbconvert_exporter": "python",
   "pygments_lexer": "ipython3",
   "version": "3.10.9"
  },
  "orig_nbformat": 4
 },
 "nbformat": 4,
 "nbformat_minor": 2
}
